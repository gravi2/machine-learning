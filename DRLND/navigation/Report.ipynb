{
 "cells": [
  {
   "cell_type": "markdown",
   "metadata": {},
   "source": [
    "# Learning Algorithm"
   ]
  },
  {
   "cell_type": "markdown",
   "metadata": {},
   "source": [
    "My solution uses Deep Q-Network to solve the Banana Navigation problem. The solution uses experience replay to record agent interactions and then uses it to pick random samples to improve the learning. The solution also uses fixed Q-Targets to improve the learning. With fixed Q-Targets, we use two identical Neural Networks (local and target) to update weights.  "
   ]
  },
  {
   "cell_type": "markdown",
   "metadata": {},
   "source": [
    "# Hyperparameters"
   ]
  },
  {
   "cell_type": "markdown",
   "metadata": {},
   "source": [
    "The solution makes use of following hyperparameters:\n",
    "1. gamma (discount factor)=0.999\n",
    "2. BATCH SIZE = 64\n",
    "3. LR (Learning Rate) = 5e-4\n",
    "4. UPDATE EVERY = 8\n",
    "5. TAU = 1e-3\n",
    "6. Epsilon = starts at 1.0 and decays towards 0.01 at the rate of 0.995"
   ]
  },
  {
   "cell_type": "markdown",
   "metadata": {},
   "source": [
    "# Model Architecture"
   ]
  },
  {
   "cell_type": "markdown",
   "metadata": {},
   "source": [
    "The solutions uses a deep neural network with following architecture:\n",
    "1. First layer is the input layer of 37 \n",
    "2. Second layer is a Linear layer of 512, followed by BatchNormalization layer of 512\n",
    "4. Third layer is a Linear layer of 256, followed by BatchNormalization layer of 256\n",
    "5. Final layer is a Linear layer of 64\n",
    "\n",
    "<img src=\"images/model-architecture.jpg\">\n"
   ]
  },
  {
   "cell_type": "markdown",
   "metadata": {},
   "source": [
    "# Implementation"
   ]
  },
  {
   "cell_type": "code",
   "execution_count": 2,
   "metadata": {},
   "outputs": [
    {
     "name": "stderr",
     "output_type": "stream",
     "text": [
      "INFO:unityagents:\n",
      "'Academy' started successfully!\n",
      "Unity Academy name: Academy\n",
      "        Number of Brains: 1\n",
      "        Number of External Brains : 1\n",
      "        Lesson number : 0\n",
      "        Reset Parameters :\n",
      "\t\t\n",
      "Unity brain name: BananaBrain\n",
      "        Number of Visual Observations (per agent): 0\n",
      "        Vector Observation space type: continuous\n",
      "        Vector Observation space size (per agent): 37\n",
      "        Number of stacked Vector Observation: 1\n",
      "        Vector Action space type: discrete\n",
      "        Vector Action space size (per agent): 4\n",
      "        Vector Action descriptions: , , , \n"
     ]
    },
    {
     "name": "stdout",
     "output_type": "stream",
     "text": [
      "Learning Banana Navigation using DQN\n",
      "Episode: 100\t Mean Score: 0.13\t Max Steps=300\n",
      "Episode: 200\t Mean Score: 2.09\t Max Steps=300\n",
      "Episode: 300\t Mean Score: 5.24\t Max Steps=300\n",
      "Episode: 400\t Mean Score: 8.25\t Max Steps=300\n",
      "Episode: 500\t Mean Score: 10.67\t Max Steps=300\n",
      "Episode: 600\t Mean Score: 12.29\t Max Steps=300\n",
      "Episode: 700\t Mean Score: 11.69\t Max Steps=300\n",
      "Episode: 766\t Mean Score: 13.06\t Max Steps=300\n",
      "Environment solved in 666 episodes!\\Mean Score: 13.06\n"
     ]
    },
    {
     "data": {
      "image/png": "[encoded data removed]",
      "text/plain": [
       "<Figure size 432x288 with 1 Axes>"
      ]
     },
     "metadata": {
      "needs_background": "light"
     },
     "output_type": "display_data"
    }
   ],
   "source": [
    "from unityagents import UnityEnvironment\n",
    "from navigation_solution import NavigationSolution\n",
    "\n",
    "import numpy as np\n",
    "import matplotlib.pyplot as plt\n",
    "%matplotlib inline\n",
    "\n",
    "env = UnityEnvironment(file_name=\"./Banana_Windows_x86_64/Banana.exe\")\n",
    "\n",
    "# get the default brain\n",
    "brain_name = env.brain_names[0]\n",
    "brain = env.brains[brain_name]\n",
    "\n",
    "nv = NavigationSolution(env)\n",
    "print('Learning Banana Navigation using DQN')\n",
    "scores = nv.learn(episodes=1000)\n",
    "env.close()\n",
    "\n",
    "# plot the scores\n",
    "fig = plt.figure()\n",
    "ax = fig.add_subplot(111)\n",
    "plt.plot(np.arange(len(scores)), scores)\n",
    "plt.ylabel('Score')\n",
    "plt.xlabel('Episode #')\n",
    "plt.show()"
   ]
  },
  {
   "cell_type": "markdown",
   "metadata": {},
   "source": [
    "# Video of the trained model"
   ]
  },
  {
   "cell_type": "code",
   "execution_count": 4,
   "metadata": {},
   "outputs": [
    {
     "data": {
      "text/html": [
       "<div align=\"middle\">\n",
       "<video width=\"80%\" controls>\n",
       "      <source src=\"./trained-video.webm\" type=\"video/webm\">\n",
       "</video></div>\n"
      ],
      "text/plain": [
       "<IPython.core.display.HTML object>"
      ]
     },
     "metadata": {},
     "output_type": "display_data"
    }
   ],
   "source": [
    "%%HTML\n",
    "<div align=\"middle\">\n",
    "<video width=\"80%\" controls>\n",
    "      <source src=\"./trained-video.webm\" type=\"video/webm\">\n",
    "</video></div>"
   ]
  },
  {
   "cell_type": "markdown",
   "metadata": {},
   "source": [
    "# Try the trained model"
   ]
  },
  {
   "cell_type": "code",
   "execution_count": 1,
   "metadata": {
    "scrolled": true
   },
   "outputs": [
    {
     "name": "stderr",
     "output_type": "stream",
     "text": [
      "INFO:unityagents:\n",
      "'Academy' started successfully!\n",
      "Unity Academy name: Academy\n",
      "        Number of Brains: 1\n",
      "        Number of External Brains : 1\n",
      "        Lesson number : 0\n",
      "        Reset Parameters :\n",
      "\t\t\n",
      "Unity brain name: BananaBrain\n",
      "        Number of Visual Observations (per agent): 0\n",
      "        Vector Observation space type: continuous\n",
      "        Vector Observation space size (per agent): 37\n",
      "        Number of stacked Vector Observation: 1\n",
      "        Vector Action space type: discrete\n",
      "        Vector Action space size (per agent): 4\n",
      "        Vector Action descriptions: , , , \n"
     ]
    },
    {
     "name": "stdout",
     "output_type": "stream",
     "text": [
      "Total score/reward=11.0\n"
     ]
    }
   ],
   "source": [
    "from unityagents import UnityEnvironment\n",
    "from navigation_solution import NavigationSolution\n",
    "import time\n",
    "\n",
    "env = UnityEnvironment(file_name=\"./Banana_Windows_x86_64/Banana.exe\")\n",
    "nv = NavigationSolution(env)\n",
    "time.sleep(10)\n",
    "nv.solve()\n",
    "env.close()"
   ]
  },
  {
   "cell_type": "markdown",
   "metadata": {},
   "source": [
    "# My Learnings"
   ]
  },
  {
   "cell_type": "markdown",
   "metadata": {},
   "source": [
    "As I was trying to train my model, I had few learnings of my own. I will try to list these down below:\n",
    "\n",
    "0. I set myself a goal to achieve the required mean score of 13 under 1000 episodes.\n",
    "1. I started with a model with 2 or 3 layers with relatively small nodes (e.g 64 or 128). This was giving me an mean score under 4. \n",
    "2. I then experimented with larger models with more layers and more nodes (e.g 256 and 512 nodes). But this too was not converaging within 1000 episodes. \n",
    "3. I then experimented with the learning rate thinking that my learning rate was slow and I should make LR a bit higher (e.g 5e-2  or 5e-3). But that too did not help and infact at times I saw the mean score reduce further down.\n",
    "\n",
    "4. After thinking about what was going on, I noticed that I was limiting the steps within each episode to only 100. This set a trigger in my mind that may be I was limiting the learning of the model by not letting the episode explore further steps. \n",
    "\n",
    "5. So I started by making the max allowed steps to 200. And that helped a lot. I was now getting a mean score of about 9.5\n",
    "\n",
    "6. Next I maxed the steps to 1000 but then also noticed that the evironment/agent was probably internally limited to max 300 steps per episode. But 300 steps were enough for me to complete a learning under 700 episodes. \n",
    "\n",
    "<img src='images/models-comparison.jpg'/>\n"
   ]
  },
  {
   "cell_type": "markdown",
   "metadata": {},
   "source": [
    "# Ideas for future improvements"
   ]
  },
  {
   "cell_type": "markdown",
   "metadata": {},
   "source": [
    "Based on my experience on this project, here are some ideas for improving the learning:\n",
    "1. Use priority experience replay to sample experiences based on the TD.\n",
    "2. Use Double DQN \n"
   ]
  },
  {
   "cell_type": "code",
   "execution_count": null,
   "metadata": {},
   "outputs": [],
   "source": []
  }
 ],
 "metadata": {
  "kernelspec": {
   "display_name": "drlnd",
   "language": "python",
   "name": "drlnd"
  },
  "language_info": {
   "codemirror_mode": {
    "name": "ipython",
    "version": 3
   },
   "file_extension": ".py",
   "mimetype": "text/x-python",
   "name": "python",
   "nbconvert_exporter": "python",
   "pygments_lexer": "ipython3",
   "version": "3.6.10"
  }
 },
 "nbformat": 4,
 "nbformat_minor": 4
}
